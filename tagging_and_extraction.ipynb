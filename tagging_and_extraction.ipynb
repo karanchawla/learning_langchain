{
 "cells": [
  {
   "cell_type": "code",
   "execution_count": 1,
   "metadata": {},
   "outputs": [],
   "source": [
    "import os\n",
    "import openai\n",
    "from dotenv import load_dotenv, find_dotenv\n",
    "\n",
    "# Setup OpenAI API key\n",
    "_ = load_dotenv(find_dotenv())\n",
    "openai.api_key = os.environ['OPENAI_API_KEY']"
   ]
  },
  {
   "cell_type": "code",
   "execution_count": 2,
   "metadata": {},
   "outputs": [],
   "source": [
    "from typing import List\n",
    "from pydantic import BaseModel, Field\n",
    "from langchain.utils.openai_functions import convert_pydantic_to_openai_function"
   ]
  },
  {
   "cell_type": "code",
   "execution_count": 11,
   "metadata": {},
   "outputs": [],
   "source": [
    "class Tagging(BaseModel):\n",
    "    \"\"\"Tag the piece of text with particular information\"\"\"\n",
    "    sentiment: str = Field(description=\"Sentiment of the text, should be `pos`, `neg`, or `neutral`\")\n",
    "    language: str = Field(description=\"Language of the text (should be ISO 639-1 code)\")\n",
    "    reflection: str = Field(description=\"A sentence about the goals, emotional state, mood, and intent of the person providing the text\")"
   ]
  },
  {
   "cell_type": "code",
   "execution_count": 12,
   "metadata": {},
   "outputs": [],
   "source": [
    "from langchain.prompts import ChatPromptTemplate\n",
    "from langchain.chat_models import ChatOpenAI\n",
    "\n",
    "model = ChatOpenAI(temperature=0.0)\n",
    "model_with_functions = model.bind(functions=[convert_pydantic_to_openai_function(Tagging)])"
   ]
  },
  {
   "cell_type": "code",
   "execution_count": 13,
   "metadata": {},
   "outputs": [],
   "source": [
    "prompt = ChatPromptTemplate.from_messages([\n",
    "    (\"system\", \"Think carefully, and then tag the text as instructed\"),\n",
    "    (\"user\", \"{input}\")\n",
    "])"
   ]
  },
  {
   "cell_type": "code",
   "execution_count": 14,
   "metadata": {},
   "outputs": [],
   "source": [
    "tagging_chain = prompt | model_with_functions"
   ]
  },
  {
   "cell_type": "code",
   "execution_count": 15,
   "metadata": {},
   "outputs": [
    {
     "data": {
      "text/plain": [
       "AIMessage(content='', additional_kwargs={'function_call': {'arguments': '{\\n  \"sentiment\": \"pos\",\\n  \"language\": \"en\",\\n  \"reflection\": \"The person enjoys going for walks as it provides them with space to reflect and plan their day.\"\\n}', 'name': 'Tagging'}})"
      ]
     },
     "execution_count": 15,
     "metadata": {},
     "output_type": "execute_result"
    }
   ],
   "source": [
    "tagging_chain.invoke({\"input\": \"I love going for walks, they provide me space to reflect and plan my day.\"})"
   ]
  },
  {
   "cell_type": "code",
   "execution_count": 16,
   "metadata": {},
   "outputs": [
    {
     "data": {
      "text/plain": [
       "AIMessage(content='', additional_kwargs={'function_call': {'arguments': '{\\n  \"sentiment\": \"neg\",\\n  \"language\": \"it\",\\n  \"reflection\": \"The person does not like the food.\"\\n}', 'name': 'Tagging'}})"
      ]
     },
     "execution_count": 16,
     "metadata": {},
     "output_type": "execute_result"
    }
   ],
   "source": [
    "tagging_chain.invoke({\"input\": \"non mi piace questo cibo\"})"
   ]
  },
  {
   "cell_type": "code",
   "execution_count": 17,
   "metadata": {},
   "outputs": [],
   "source": [
    "from langchain.output_parsers.openai_functions import JsonOutputFunctionsParser"
   ]
  },
  {
   "cell_type": "code",
   "execution_count": 18,
   "metadata": {},
   "outputs": [],
   "source": [
    "tagging_chain = prompt | model_with_functions | JsonOutputFunctionsParser()"
   ]
  },
  {
   "cell_type": "code",
   "execution_count": 19,
   "metadata": {},
   "outputs": [
    {
     "data": {
      "text/plain": [
       "{'sentiment': 'pos',\n",
       " 'language': 'en',\n",
       " 'reflection': 'The person is determined and motivated to achieve their goals.'}"
      ]
     },
     "execution_count": 19,
     "metadata": {},
     "output_type": "execute_result"
    }
   ],
   "source": [
    "tagging_chain.invoke({\"input\": \"I'm a very ambitious person with many goals for my life and I hope to be relentless until I've accomplished them.\"})"
   ]
  },
  {
   "cell_type": "markdown",
   "metadata": {},
   "source": [
    "### Extraction\n",
    "\n",
    "This is similar to tagging, but used for extracting multiple pieces of information."
   ]
  },
  {
   "cell_type": "code",
   "execution_count": 23,
   "metadata": {},
   "outputs": [],
   "source": [
    "from typing import Optional\n",
    "class Person(BaseModel):\n",
    "    \"\"\"Information about a person\"\"\"\n",
    "    name: str = Field(description=\"Name of the person\")\n",
    "    age: Optional[int] = Field(description=\"Person's age\")\n",
    "\n",
    "class Information(BaseModel):\n",
    "    \"\"\"Information to extract\"\"\"\n",
    "    people: List[Person] = Field(description=\"List of info about people\")"
   ]
  },
  {
   "cell_type": "code",
   "execution_count": 32,
   "metadata": {},
   "outputs": [],
   "source": [
    "extraction_model = model.bind(functions=[convert_pydantic_to_openai_function(Information)])"
   ]
  },
  {
   "cell_type": "code",
   "execution_count": 33,
   "metadata": {},
   "outputs": [
    {
     "data": {
      "text/plain": [
       "AIMessage(content='', additional_kwargs={'function_call': {'arguments': '{\\n  \"people\": [\\n    {\\n      \"name\": \"Joe\",\\n      \"age\": 30\\n    },\\n    {\\n      \"name\": \"Martha\",\\n      \"age\": null\\n    }\\n  ]\\n}', 'name': 'Information'}})"
      ]
     },
     "execution_count": 33,
     "metadata": {},
     "output_type": "execute_result"
    }
   ],
   "source": [
    "extraction_model.invoke(\"Joe is 30, his mom is Martha\")"
   ]
  },
  {
   "cell_type": "code",
   "execution_count": 34,
   "metadata": {},
   "outputs": [],
   "source": [
    "prompt = ChatPromptTemplate.from_messages([\n",
    "    (\"system\", \"Extract the relevant information, if not explicitly provided do not guess. Extract partial info\"),\n",
    "    (\"human\", \"{input}\")\n",
    "])"
   ]
  },
  {
   "cell_type": "code",
   "execution_count": 35,
   "metadata": {},
   "outputs": [],
   "source": [
    "extraction_chain = prompt | extraction_model"
   ]
  },
  {
   "cell_type": "code",
   "execution_count": 36,
   "metadata": {},
   "outputs": [
    {
     "data": {
      "text/plain": [
       "AIMessage(content='', additional_kwargs={'function_call': {'arguments': '{\\n  \"people\": [\\n    {\\n      \"name\": \"Joe\",\\n      \"age\": 30\\n    },\\n    {\\n      \"name\": \"Martha\",\\n      \"age\": null\\n    }\\n  ]\\n}', 'name': 'Information'}})"
      ]
     },
     "execution_count": 36,
     "metadata": {},
     "output_type": "execute_result"
    }
   ],
   "source": [
    "extraction_chain.invoke({\"input\": \"Joe is 30, his mom is Martha\"})"
   ]
  },
  {
   "cell_type": "code",
   "execution_count": 37,
   "metadata": {},
   "outputs": [],
   "source": [
    "extraction_chain = prompt | extraction_model | JsonOutputFunctionsParser()"
   ]
  },
  {
   "cell_type": "code",
   "execution_count": 38,
   "metadata": {},
   "outputs": [
    {
     "data": {
      "text/plain": [
       "{'people': [{'name': 'Joe', 'age': 30}, {'name': 'Martha', 'age': None}]}"
      ]
     },
     "execution_count": 38,
     "metadata": {},
     "output_type": "execute_result"
    }
   ],
   "source": [
    "extraction_chain.invoke({\"input\": \"Joe is 30, his mom is Martha\"})"
   ]
  },
  {
   "cell_type": "code",
   "execution_count": 39,
   "metadata": {},
   "outputs": [],
   "source": [
    "from langchain.output_parsers.openai_functions import JsonKeyOutputFunctionsParser"
   ]
  },
  {
   "cell_type": "code",
   "execution_count": 40,
   "metadata": {},
   "outputs": [],
   "source": [
    "extraction_chain = prompt | extraction_model | JsonKeyOutputFunctionsParser(key_name=\"people\")"
   ]
  },
  {
   "cell_type": "code",
   "execution_count": 41,
   "metadata": {},
   "outputs": [
    {
     "data": {
      "text/plain": [
       "[{'name': 'Joe', 'age': 30}, {'name': 'Martha', 'age': None}]"
      ]
     },
     "execution_count": 41,
     "metadata": {},
     "output_type": "execute_result"
    }
   ],
   "source": [
    "extraction_chain.invoke({\"input\": \"Joe is 30, his mom is Martha\"})"
   ]
  },
  {
   "cell_type": "code",
   "execution_count": 42,
   "metadata": {},
   "outputs": [],
   "source": [
    "from langchain.document_loaders import WebBaseLoader\n",
    "loader = WebBaseLoader(\"https://news.ycombinator.com/news\")\n",
    "documents = loader.load()"
   ]
  },
  {
   "cell_type": "code",
   "execution_count": 43,
   "metadata": {},
   "outputs": [],
   "source": [
    "doc = documents[0]"
   ]
  },
  {
   "cell_type": "code",
   "execution_count": 77,
   "metadata": {},
   "outputs": [],
   "source": [
    "class HNArticle(BaseModel):\n",
    "    \"\"\"Each title on the HN front page's topic\"\"\"\n",
    "    title: str = Field(description=\"The title of the article\")\n",
    "    url: str = Field(description=\"The URL of the article\")\n",
    "    uname: str = Field(description=\"Username of the person who submitted the article\")\n",
    "\n",
    "class Info(BaseModel):\n",
    "    \"\"\"Information to extract\"\"\"\n",
    "    articles: List[HNArticle]"
   ]
  },
  {
   "cell_type": "code",
   "execution_count": 78,
   "metadata": {},
   "outputs": [],
   "source": [
    "article_extraction_function = convert_pydantic_to_openai_function(HNArticle)\n",
    "\n",
    "tagging_model = model.bind(functions=[article_extraction_function])\n",
    "tagging_chain = prompt | tagging_model "
   ]
  },
  {
   "cell_type": "code",
   "execution_count": 79,
   "metadata": {},
   "outputs": [
    {
     "data": {
      "text/plain": [
       "AIMessage(content='', additional_kwargs={'function_call': {'arguments': '{\\n  \"title\": \"Schedule 37th Chaos Communication Congress (ccc.de)\",\\n  \"url\": \"https://ccc.de\",\\n  \"uname\": \"y04nn\"\\n}', 'name': 'HNArticle'}})"
      ]
     },
     "execution_count": 79,
     "metadata": {},
     "output_type": "execute_result"
    }
   ],
   "source": [
    "tagging_chain.invoke({\"input\": doc.page_content[:10000]})"
   ]
  },
  {
   "cell_type": "code",
   "execution_count": 80,
   "metadata": {},
   "outputs": [],
   "source": [
    "template = \"\"\"The front page of a blog site will be passed to you. Extract from it all the articles submitted to this site.\n",
    "Extract the name of the article, topic the article is about, and the username of the person who submitted it. If no articles are submitted that's fine - you don't need to extract any! Just return an empty list.\n",
    "\n",
    "Do not make up or guess ANY extra information. Only extract what exactly is in the text.\"\"\"\n",
    "\n",
    "prompt = ChatPromptTemplate.from_messages([\n",
    "    (\"system\", template),\n",
    "    (\"human\", \"{input}\")\n",
    "])\n",
    "extraction_model = model.bind(functions=[convert_pydantic_to_openai_function(Info)])"
   ]
  },
  {
   "cell_type": "code",
   "execution_count": 81,
   "metadata": {},
   "outputs": [],
   "source": [
    "extraction_chain = prompt | extraction_model | JsonKeyOutputFunctionsParser(key_name=\"articles\") "
   ]
  },
  {
   "cell_type": "code",
   "execution_count": 82,
   "metadata": {},
   "outputs": [
    {
     "data": {
      "text/plain": [
       "[{'title': 'Schedule 37th Chaos Communication Congress (ccc.de)',\n",
       "  'url': 'https://news.ycombinator.com/item?id=123456',\n",
       "  'uname': 'y04nn'},\n",
       " {'title': 'Game Boy / Color Architecture (copetti.org)',\n",
       "  'url': 'https://news.ycombinator.com/item?id=234567',\n",
       "  'uname': 'ronama'},\n",
       " {'title': 'History of Alice and Bob (cryptocouple.com)',\n",
       "  'url': 'https://news.ycombinator.com/item?id=345678',\n",
       "  'uname': 'susam'},\n",
       " {'title': 'Veritasium: The SAT Question Everyone Got Wrong [video] (youtube.com)',\n",
       "  'url': 'https://news.ycombinator.com/item?id=456789',\n",
       "  'uname': 'goplayoutside'},\n",
       " {'title': 'Using Make – writing less Makefile (causal.agency)',\n",
       "  'url': 'https://news.ycombinator.com/item?id=567890',\n",
       "  'uname': 'todsacerdoti'},\n",
       " {'title': 'FUSE-T is a kext-less implementation of FUSE for macOS that uses NFSv4 (github.com/macos-fuse-t)',\n",
       "  'url': 'https://news.ycombinator.com/item?id=678901',\n",
       "  'uname': 'nimish'},\n",
       " {'title': 'The Invisible Screen – An E-Paper Smart Display (invisible-computers.com)',\n",
       "  'url': 'https://news.ycombinator.com/item?id=789012',\n",
       "  'uname': 'spansoa'},\n",
       " {'title': 'Show HN: Actually Portable Vim (With a Cute Vimrc) (github.com/csdvrx)',\n",
       "  'url': 'https://news.ycombinator.com/item?id=890123',\n",
       "  'uname': 'csdvrx'},\n",
       " {'title': 'Black Triangles (2014) (rampantgames.com)',\n",
       "  'url': 'https://news.ycombinator.com/item?id=901234',\n",
       "  'uname': 'andric'},\n",
       " {'title': 'Text Editor: Data Structures (averylaird.com)',\n",
       "  'url': 'https://news.ycombinator.com/item?id=012345',\n",
       "  'uname': 'ibobev'},\n",
       " {'title': \"Moderna's mRNA cancer vaccine works better than thought (freethink.com)\",\n",
       "  'url': 'https://news.ycombinator.com/item?id=123450',\n",
       "  'uname': 'nateb2022'},\n",
       " {'title': 'Show HN: Whataaabout.com – unique activity ideas for the holiday break (whataaabout.com)',\n",
       "  'url': 'https://news.ycombinator.com/item?id=234561',\n",
       "  'uname': 'erkjs'},\n",
       " {'title': 'How thermal management is changing in the age of the kilowatt chip (theregister.com)',\n",
       "  'url': 'https://news.ycombinator.com/item?id=345672',\n",
       "  'uname': 'rntn'},\n",
       " {'title': 'Japan to crack down on Apple and Google app store monopolies (nikkei.com)',\n",
       "  'url': 'https://news.ycombinator.com/item?id=456783',\n",
       "  'uname': 'mfiguiere'},\n",
       " {'title': 'Adventures in reverse engineering Broadcom NIC firmware (devever.net)',\n",
       "  'url': 'https://news.ycombinator.com/item?id=567895',\n",
       "  'uname': 'hasheddan'},\n",
       " {'title': \"30 years of Donald Knuth's 'Christmas Lectures' are online – including 2023's (slashdot.org)\",\n",
       "  'url': 'https://news.ycombinator.com/item?id=678909',\n",
       "  'uname': 'MilnerRoute'},\n",
       " {'title': \"Let's Build a Compiler (iecc.com)\",\n",
       "  'url': 'https://news.ycombinator.com/item?id=789018',\n",
       "  'uname': 'ibobev'},\n",
       " {'title': 'Show HN: I made a GPU VRAM calculator for transformer-based models (asmirnov.xyz)',\n",
       "  'url': 'https://news.ycombinator.com/item?id=890129',\n",
       "  'uname': 'furiousteabag'},\n",
       " {'title': 'XPath Scraping with FreshRSS (danq.me)',\n",
       "  'url': 'https://news.ycombinator.com/item?id=901243',\n",
       "  'uname': 'ulrischa'},\n",
       " {'title': 'Putting the \"J\" in the RPG, Part 2: Playstation for the Win (filfre.net)',\n",
       "  'url': 'https://news.ycombinator.com/item?id=012356',\n",
       "  'uname': 'leotravis10'},\n",
       " {'title': 'Multicellularity arose several times in the evolution of eukaryotes (2013) (wiley.com)',\n",
       "  'url': 'https://news.ycombinator.com/item?id=123459',\n",
       "  'uname': 'arbesman'},\n",
       " {'title': 'Lab Notebooks (2020) (sambleckley.com)',\n",
       "  'url': 'https://news.ycombinator.com/item?id=234572',\n",
       "  'uname': 'momonga'},\n",
       " {'title': '2023 Medley Interlisp Project Annual Report (interlisp.org)',\n",
       "  'url': 'https://news.ycombinator.com/item?id=345685',\n",
       "  'uname': 'mepian'},\n",
       " {'title': 'A copy-and-patch JIT compiler for CPython (github.com/python)',\n",
       "  'url': 'https://news.ycombinator.com/item?id=456798',\n",
       "  'uname': 'polyrand'},\n",
       " {'title': 'Colorado wolf reintroduction to move forward (phys.org)',\n",
       "  'url': 'https://news.ycombinator.com/item?id=567903',\n",
       "  'uname': 'PaulHoule'},\n",
       " {'title': 'US ban on some Apple Watch sales now in effect (arstechnica.com)',\n",
       "  'url': 'https://news.ycombinator.com/item?id=678918',\n",
       "  'uname': 'blueblueue'},\n",
       " {'title': \"Bob Dylan's Christmas Lights: A Scholarly Treatise (merrillmarkoe.substack.com)\",\n",
       "  'url': 'https://news.ycombinator.com/item?id=789027',\n",
       "  'uname': 'NaOH'},\n",
       " {'title': \"A list of Hacker News's undocumented features and behaviors (github.com/minimaxir)\",\n",
       "  'url': 'https://news.ycombinator.com/item?id=890138',\n",
       "  'uname': 'ssgodderidge'},\n",
       " {'title': 'The Psychology of Poverty: Where Do We Stand? [pdf] (nber.org)',\n",
       "  'url': 'https://news.ycombinator.com/item?id=901252',\n",
       "  'uname': 'elsewhen'},\n",
       " {'title': 'A data corruption bug in OpenZFS? (despairlabs.com)',\n",
       "  'url': 'https://news.ycombinator.com/item?id=012367',\n",
       "  'uname': 'moviuro'}]"
      ]
     },
     "execution_count": 82,
     "metadata": {},
     "output_type": "execute_result"
    }
   ],
   "source": [
    "extraction_chain.invoke({\"input\": doc.page_content}) "
   ]
  },
  {
   "cell_type": "code",
   "execution_count": null,
   "metadata": {},
   "outputs": [],
   "source": []
  }
 ],
 "metadata": {
  "kernelspec": {
   "display_name": "Python 3",
   "language": "python",
   "name": "python3"
  },
  "language_info": {
   "codemirror_mode": {
    "name": "ipython",
    "version": 3
   },
   "file_extension": ".py",
   "mimetype": "text/x-python",
   "name": "python",
   "nbconvert_exporter": "python",
   "pygments_lexer": "ipython3",
   "version": "3.10.12"
  }
 },
 "nbformat": 4,
 "nbformat_minor": 2
}
